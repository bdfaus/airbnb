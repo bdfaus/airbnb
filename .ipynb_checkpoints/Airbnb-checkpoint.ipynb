{
 "cells": [
  {
   "cell_type": "markdown",
   "metadata": {},
   "source": [
    "# Airbnb Boston data wrangling and observations\n",
    "The data in this notebook is available under a creative commons 0 license (public domain). It was originally provided by kaggle.com. \n",
    "\n",
    "The goal of this notebook is to wrangle Airbnb-Boston data, propose relevant questions, and use the data to provide helpful answers. "
   ]
  },
  {
   "cell_type": "code",
   "execution_count": 142,
   "metadata": {
    "collapsed": true
   },
   "outputs": [],
   "source": [
    "import pandas as pd\n",
    "import numpy as np\n",
    "import matplotlib.pyplot as plt\n",
    "import seaborn as sns\n",
    "%matplotlib inline"
   ]
  },
  {
   "cell_type": "code",
   "execution_count": 33,
   "metadata": {
    "collapsed": true
   },
   "outputs": [],
   "source": [
    "#Read in Boston open data on Airbnb from Kaggle\n",
    "b_cal = pd.read_csv('boston/calendar.csv')\n",
    "b_list = pd.read_csv('boston/listings.csv')\n",
    "b_rev = pd.read_csv('boston/reviews.csv')"
   ]
  },
  {
   "cell_type": "markdown",
   "metadata": {},
   "source": [
    "##### The focus of this notebook will be the Boston data, but the Seattle data is here for possible future wrangling/observing"
   ]
  },
  {
   "cell_type": "code",
   "execution_count": 34,
   "metadata": {
    "collapsed": true
   },
   "outputs": [],
   "source": [
    "#Read in Seattle open data on Airbnb from Kaggle\n",
    "s_cal = pd.read_csv('seattle/calendar.csv')\n",
    "s_list = pd.read_csv('seattle/listings.csv')\n",
    "s_rev = pd.read_csv('seattle/reviews.csv')"
   ]
  },
  {
   "cell_type": "code",
   "execution_count": 35,
   "metadata": {},
   "outputs": [
    {
     "name": "stdout",
     "output_type": "stream",
     "text": [
      "(1308890, 4)\n",
      "(3585, 95)\n",
      "(68275, 6)\n",
      "(1393570, 4)\n",
      "(3818, 92)\n",
      "(84849, 6)\n"
     ]
    }
   ],
   "source": [
    "dataframes = [b_cal, b_list, b_rev, s_cal, s_list, s_rev]\n",
    "x = 0\n",
    "for frame in dataframes:\n",
    "    print(frame.shape)"
   ]
  },
  {
   "cell_type": "markdown",
   "metadata": {},
   "source": [
    "The listing files have many columns, whereas the calendar and review data are much smaller in scope. It looks like the challenge will be weeding through the listing data."
   ]
  },
  {
   "cell_type": "code",
   "execution_count": 36,
   "metadata": {},
   "outputs": [
    {
     "data": {
      "text/html": [
       "<div>\n",
       "<style>\n",
       "    .dataframe thead tr:only-child th {\n",
       "        text-align: right;\n",
       "    }\n",
       "\n",
       "    .dataframe thead th {\n",
       "        text-align: left;\n",
       "    }\n",
       "\n",
       "    .dataframe tbody tr th {\n",
       "        vertical-align: top;\n",
       "    }\n",
       "</style>\n",
       "<table border=\"1\" class=\"dataframe\">\n",
       "  <thead>\n",
       "    <tr style=\"text-align: right;\">\n",
       "      <th></th>\n",
       "      <th>listing_id</th>\n",
       "      <th>date</th>\n",
       "      <th>available</th>\n",
       "      <th>price</th>\n",
       "    </tr>\n",
       "  </thead>\n",
       "  <tbody>\n",
       "    <tr>\n",
       "      <th>0</th>\n",
       "      <td>12147973</td>\n",
       "      <td>2017-09-05</td>\n",
       "      <td>f</td>\n",
       "      <td>NaN</td>\n",
       "    </tr>\n",
       "    <tr>\n",
       "      <th>1</th>\n",
       "      <td>12147973</td>\n",
       "      <td>2017-09-04</td>\n",
       "      <td>f</td>\n",
       "      <td>NaN</td>\n",
       "    </tr>\n",
       "  </tbody>\n",
       "</table>\n",
       "</div>"
      ],
      "text/plain": [
       "   listing_id        date available price\n",
       "0    12147973  2017-09-05         f   NaN\n",
       "1    12147973  2017-09-04         f   NaN"
      ]
     },
     "execution_count": 36,
     "metadata": {},
     "output_type": "execute_result"
    }
   ],
   "source": [
    "b_cal.head(2)"
   ]
  },
  {
   "cell_type": "code",
   "execution_count": 37,
   "metadata": {},
   "outputs": [
    {
     "data": {
      "text/html": [
       "<div>\n",
       "<style>\n",
       "    .dataframe thead tr:only-child th {\n",
       "        text-align: right;\n",
       "    }\n",
       "\n",
       "    .dataframe thead th {\n",
       "        text-align: left;\n",
       "    }\n",
       "\n",
       "    .dataframe tbody tr th {\n",
       "        vertical-align: top;\n",
       "    }\n",
       "</style>\n",
       "<table border=\"1\" class=\"dataframe\">\n",
       "  <thead>\n",
       "    <tr style=\"text-align: right;\">\n",
       "      <th></th>\n",
       "      <th>listing_id</th>\n",
       "      <th>id</th>\n",
       "      <th>date</th>\n",
       "      <th>reviewer_id</th>\n",
       "      <th>reviewer_name</th>\n",
       "      <th>comments</th>\n",
       "    </tr>\n",
       "  </thead>\n",
       "  <tbody>\n",
       "    <tr>\n",
       "      <th>0</th>\n",
       "      <td>1178162</td>\n",
       "      <td>4724140</td>\n",
       "      <td>2013-05-21</td>\n",
       "      <td>4298113</td>\n",
       "      <td>Olivier</td>\n",
       "      <td>My stay at islam's place was really cool! Good...</td>\n",
       "    </tr>\n",
       "    <tr>\n",
       "      <th>1</th>\n",
       "      <td>1178162</td>\n",
       "      <td>4869189</td>\n",
       "      <td>2013-05-29</td>\n",
       "      <td>6452964</td>\n",
       "      <td>Charlotte</td>\n",
       "      <td>Great location for both airport and city - gre...</td>\n",
       "    </tr>\n",
       "  </tbody>\n",
       "</table>\n",
       "</div>"
      ],
      "text/plain": [
       "   listing_id       id        date  reviewer_id reviewer_name  \\\n",
       "0     1178162  4724140  2013-05-21      4298113       Olivier   \n",
       "1     1178162  4869189  2013-05-29      6452964     Charlotte   \n",
       "\n",
       "                                            comments  \n",
       "0  My stay at islam's place was really cool! Good...  \n",
       "1  Great location for both airport and city - gre...  "
      ]
     },
     "execution_count": 37,
     "metadata": {},
     "output_type": "execute_result"
    }
   ],
   "source": [
    "b_rev.head(2)"
   ]
  },
  {
   "cell_type": "code",
   "execution_count": 38,
   "metadata": {},
   "outputs": [
    {
     "data": {
      "text/html": [
       "<div>\n",
       "<style>\n",
       "    .dataframe thead tr:only-child th {\n",
       "        text-align: right;\n",
       "    }\n",
       "\n",
       "    .dataframe thead th {\n",
       "        text-align: left;\n",
       "    }\n",
       "\n",
       "    .dataframe tbody tr th {\n",
       "        vertical-align: top;\n",
       "    }\n",
       "</style>\n",
       "<table border=\"1\" class=\"dataframe\">\n",
       "  <thead>\n",
       "    <tr style=\"text-align: right;\">\n",
       "      <th></th>\n",
       "      <th>id</th>\n",
       "      <th>listing_url</th>\n",
       "      <th>scrape_id</th>\n",
       "      <th>last_scraped</th>\n",
       "      <th>name</th>\n",
       "      <th>summary</th>\n",
       "      <th>space</th>\n",
       "      <th>description</th>\n",
       "      <th>experiences_offered</th>\n",
       "      <th>neighborhood_overview</th>\n",
       "      <th>...</th>\n",
       "      <th>review_scores_value</th>\n",
       "      <th>requires_license</th>\n",
       "      <th>license</th>\n",
       "      <th>jurisdiction_names</th>\n",
       "      <th>instant_bookable</th>\n",
       "      <th>cancellation_policy</th>\n",
       "      <th>require_guest_profile_picture</th>\n",
       "      <th>require_guest_phone_verification</th>\n",
       "      <th>calculated_host_listings_count</th>\n",
       "      <th>reviews_per_month</th>\n",
       "    </tr>\n",
       "  </thead>\n",
       "  <tbody>\n",
       "    <tr>\n",
       "      <th>0</th>\n",
       "      <td>12147973</td>\n",
       "      <td>https://www.airbnb.com/rooms/12147973</td>\n",
       "      <td>20160906204935</td>\n",
       "      <td>2016-09-07</td>\n",
       "      <td>Sunny Bungalow in the City</td>\n",
       "      <td>Cozy, sunny, family home.  Master bedroom high...</td>\n",
       "      <td>The house has an open and cozy feel at the sam...</td>\n",
       "      <td>Cozy, sunny, family home.  Master bedroom high...</td>\n",
       "      <td>none</td>\n",
       "      <td>Roslindale is quiet, convenient and friendly. ...</td>\n",
       "      <td>...</td>\n",
       "      <td>NaN</td>\n",
       "      <td>f</td>\n",
       "      <td>NaN</td>\n",
       "      <td>NaN</td>\n",
       "      <td>f</td>\n",
       "      <td>moderate</td>\n",
       "      <td>f</td>\n",
       "      <td>f</td>\n",
       "      <td>1</td>\n",
       "      <td>NaN</td>\n",
       "    </tr>\n",
       "    <tr>\n",
       "      <th>1</th>\n",
       "      <td>3075044</td>\n",
       "      <td>https://www.airbnb.com/rooms/3075044</td>\n",
       "      <td>20160906204935</td>\n",
       "      <td>2016-09-07</td>\n",
       "      <td>Charming room in pet friendly apt</td>\n",
       "      <td>Charming and quiet room in a second floor 1910...</td>\n",
       "      <td>Small but cozy and quite room with a full size...</td>\n",
       "      <td>Charming and quiet room in a second floor 1910...</td>\n",
       "      <td>none</td>\n",
       "      <td>The room is in Roslindale, a diverse and prima...</td>\n",
       "      <td>...</td>\n",
       "      <td>9.0</td>\n",
       "      <td>f</td>\n",
       "      <td>NaN</td>\n",
       "      <td>NaN</td>\n",
       "      <td>t</td>\n",
       "      <td>moderate</td>\n",
       "      <td>f</td>\n",
       "      <td>f</td>\n",
       "      <td>1</td>\n",
       "      <td>1.3</td>\n",
       "    </tr>\n",
       "  </tbody>\n",
       "</table>\n",
       "<p>2 rows × 95 columns</p>\n",
       "</div>"
      ],
      "text/plain": [
       "         id                            listing_url       scrape_id  \\\n",
       "0  12147973  https://www.airbnb.com/rooms/12147973  20160906204935   \n",
       "1   3075044   https://www.airbnb.com/rooms/3075044  20160906204935   \n",
       "\n",
       "  last_scraped                               name  \\\n",
       "0   2016-09-07         Sunny Bungalow in the City   \n",
       "1   2016-09-07  Charming room in pet friendly apt   \n",
       "\n",
       "                                             summary  \\\n",
       "0  Cozy, sunny, family home.  Master bedroom high...   \n",
       "1  Charming and quiet room in a second floor 1910...   \n",
       "\n",
       "                                               space  \\\n",
       "0  The house has an open and cozy feel at the sam...   \n",
       "1  Small but cozy and quite room with a full size...   \n",
       "\n",
       "                                         description experiences_offered  \\\n",
       "0  Cozy, sunny, family home.  Master bedroom high...                none   \n",
       "1  Charming and quiet room in a second floor 1910...                none   \n",
       "\n",
       "                               neighborhood_overview        ...          \\\n",
       "0  Roslindale is quiet, convenient and friendly. ...        ...           \n",
       "1  The room is in Roslindale, a diverse and prima...        ...           \n",
       "\n",
       "  review_scores_value requires_license license jurisdiction_names  \\\n",
       "0                 NaN                f     NaN                NaN   \n",
       "1                 9.0                f     NaN                NaN   \n",
       "\n",
       "  instant_bookable cancellation_policy require_guest_profile_picture  \\\n",
       "0                f            moderate                             f   \n",
       "1                t            moderate                             f   \n",
       "\n",
       "  require_guest_phone_verification calculated_host_listings_count  \\\n",
       "0                                f                              1   \n",
       "1                                f                              1   \n",
       "\n",
       "   reviews_per_month  \n",
       "0                NaN  \n",
       "1                1.3  \n",
       "\n",
       "[2 rows x 95 columns]"
      ]
     },
     "execution_count": 38,
     "metadata": {},
     "output_type": "execute_result"
    }
   ],
   "source": [
    "b_list.head(2)"
   ]
  },
  {
   "cell_type": "code",
   "execution_count": 39,
   "metadata": {},
   "outputs": [
    {
     "data": {
      "text/plain": [
       "(3585, 95)"
      ]
     },
     "execution_count": 39,
     "metadata": {},
     "output_type": "execute_result"
    }
   ],
   "source": [
    "b_list.shape"
   ]
  },
  {
   "cell_type": "code",
   "execution_count": 40,
   "metadata": {},
   "outputs": [
    {
     "data": {
      "text/plain": [
       "(1308890, 4)"
      ]
     },
     "execution_count": 40,
     "metadata": {},
     "output_type": "execute_result"
    }
   ],
   "source": [
    "b_cal.shape"
   ]
  },
  {
   "cell_type": "code",
   "execution_count": 41,
   "metadata": {},
   "outputs": [
    {
     "data": {
      "text/plain": [
       "(68275, 6)"
      ]
     },
     "execution_count": 41,
     "metadata": {},
     "output_type": "execute_result"
    }
   ],
   "source": [
    "b_rev.shape"
   ]
  },
  {
   "cell_type": "code",
   "execution_count": 42,
   "metadata": {},
   "outputs": [
    {
     "name": "stdout",
     "output_type": "stream",
     "text": [
      "id...3585\n",
      "listing_url...3585\n",
      "scrape_id...1\n",
      "last_scraped...1\n",
      "name...3504\n",
      "summary...3114\n",
      "space...2269\n",
      "description...3423\n",
      "experiences_offered...1\n",
      "neighborhood_overview...1729\n",
      "notes...1270\n",
      "transit...1860\n",
      "access...1763\n",
      "interaction...1618\n",
      "house_rules...1929\n",
      "thumbnail_url...2987\n",
      "medium_url...2987\n",
      "picture_url...3585\n",
      "xl_picture_url...2987\n",
      "host_id...2181\n",
      "host_url...2181\n",
      "host_name...1334\n",
      "host_since...1281\n",
      "host_location...177\n",
      "host_about...1241\n",
      "host_response_time...5\n",
      "host_response_rate...53\n",
      "host_acceptance_rate...73\n",
      "host_is_superhost...2\n",
      "host_thumbnail_url...2174\n",
      "host_picture_url...2174\n",
      "host_neighbourhood...54\n",
      "host_listings_count...35\n",
      "host_total_listings_count...35\n",
      "host_verifications...83\n",
      "host_has_profile_pic...2\n",
      "host_identity_verified...2\n",
      "street...1239\n",
      "neighbourhood...31\n",
      "neighbourhood_cleansed...25\n",
      "neighbourhood_group_cleansed...1\n",
      "city...39\n",
      "state...1\n",
      "zipcode...44\n",
      "market...5\n",
      "smart_location...39\n",
      "country_code...1\n",
      "country...1\n",
      "latitude...3585\n",
      "longitude...3585\n",
      "is_location_exact...2\n",
      "property_type...14\n",
      "room_type...3\n",
      "accommodates...14\n",
      "bathrooms...13\n",
      "bedrooms...7\n",
      "beds...12\n",
      "bed_type...5\n",
      "amenities...3092\n",
      "square_feet...38\n",
      "price...324\n",
      "weekly_price...244\n",
      "monthly_price...289\n",
      "security_deposit...55\n",
      "cleaning_fee...80\n",
      "guests_included...13\n",
      "extra_people...51\n",
      "minimum_nights...29\n",
      "maximum_nights...85\n",
      "calendar_updated...38\n",
      "has_availability...1\n",
      "availability_30...31\n",
      "availability_60...61\n",
      "availability_90...91\n",
      "availability_365...348\n",
      "calendar_last_scraped...1\n",
      "number_of_reviews...178\n",
      "first_review...976\n",
      "last_review...405\n",
      "review_scores_rating...49\n",
      "review_scores_accuracy...9\n",
      "review_scores_cleanliness...10\n",
      "review_scores_checkin...9\n",
      "review_scores_communication...8\n",
      "review_scores_location...10\n",
      "review_scores_value...10\n",
      "requires_license...1\n",
      "license...1\n",
      "jurisdiction_names...1\n",
      "instant_bookable...2\n",
      "cancellation_policy...4\n",
      "require_guest_profile_picture...2\n",
      "require_guest_phone_verification...2\n",
      "calculated_host_listings_count...25\n",
      "reviews_per_month...645\n"
     ]
    }
   ],
   "source": [
    "for col in b_list.columns:\n",
    "    print(f'{col}...{len(b_list[col].unique())}')"
   ]
  },
  {
   "cell_type": "markdown",
   "metadata": {},
   "source": [
    "#### Observation\n",
    "It looks like there are several columns with only 1 unique value. They might've been used to sort from a larger dataset. Now, however, these won't tell us anything, so we'll get rid of them."
   ]
  },
  {
   "cell_type": "code",
   "execution_count": 43,
   "metadata": {},
   "outputs": [
    {
     "name": "stdout",
     "output_type": "stream",
     "text": [
      "Dropped scrape_id\n",
      "Dropped last_scraped\n",
      "Dropped experiences_offered\n",
      "Dropped neighbourhood_group_cleansed\n",
      "Dropped state\n",
      "Dropped country_code\n",
      "Dropped country\n",
      "Dropped has_availability\n",
      "Dropped calendar_last_scraped\n",
      "Dropped requires_license\n",
      "Dropped license\n",
      "Dropped jurisdiction_names\n"
     ]
    }
   ],
   "source": [
    "#Drop columns with less than 2 unique values\n",
    "for col in b_list.columns:\n",
    "    if len(b_list[col].unique()) < 2:\n",
    "        b_list.drop(col,axis=1,inplace=True)\n",
    "        print(f\"Dropped {col}\")"
   ]
  },
  {
   "cell_type": "code",
   "execution_count": 44,
   "metadata": {},
   "outputs": [
    {
     "name": "stdout",
     "output_type": "stream",
     "text": [
      "id...3585\n",
      "listing_url...3585\n",
      "name...3504\n",
      "summary...3114\n",
      "space...2269\n",
      "description...3423\n",
      "neighborhood_overview...1729\n",
      "notes...1270\n",
      "transit...1860\n",
      "access...1763\n",
      "interaction...1618\n",
      "house_rules...1929\n",
      "thumbnail_url...2987\n",
      "medium_url...2987\n",
      "picture_url...3585\n",
      "xl_picture_url...2987\n",
      "host_id...2181\n",
      "host_url...2181\n",
      "host_name...1334\n",
      "host_since...1281\n",
      "host_location...177\n",
      "host_about...1241\n",
      "host_response_time...5\n",
      "host_response_rate...53\n",
      "host_acceptance_rate...73\n",
      "host_is_superhost...2\n",
      "host_thumbnail_url...2174\n",
      "host_picture_url...2174\n",
      "host_neighbourhood...54\n",
      "host_listings_count...35\n",
      "host_total_listings_count...35\n",
      "host_verifications...83\n",
      "host_has_profile_pic...2\n",
      "host_identity_verified...2\n",
      "street...1239\n",
      "neighbourhood...31\n",
      "neighbourhood_cleansed...25\n",
      "city...39\n",
      "zipcode...44\n",
      "market...5\n",
      "smart_location...39\n",
      "latitude...3585\n",
      "longitude...3585\n",
      "is_location_exact...2\n",
      "property_type...14\n",
      "room_type...3\n",
      "accommodates...14\n",
      "bathrooms...13\n",
      "bedrooms...7\n",
      "beds...12\n",
      "bed_type...5\n",
      "amenities...3092\n",
      "square_feet...38\n",
      "price...324\n",
      "weekly_price...244\n",
      "monthly_price...289\n",
      "security_deposit...55\n",
      "cleaning_fee...80\n",
      "guests_included...13\n",
      "extra_people...51\n",
      "minimum_nights...29\n",
      "maximum_nights...85\n",
      "calendar_updated...38\n",
      "availability_30...31\n",
      "availability_60...61\n",
      "availability_90...91\n",
      "availability_365...348\n",
      "number_of_reviews...178\n",
      "first_review...976\n",
      "last_review...405\n",
      "review_scores_rating...49\n",
      "review_scores_accuracy...9\n",
      "review_scores_cleanliness...10\n",
      "review_scores_checkin...9\n",
      "review_scores_communication...8\n",
      "review_scores_location...10\n",
      "review_scores_value...10\n",
      "instant_bookable...2\n",
      "cancellation_policy...4\n",
      "require_guest_profile_picture...2\n",
      "require_guest_phone_verification...2\n",
      "calculated_host_listings_count...25\n",
      "reviews_per_month...645\n"
     ]
    }
   ],
   "source": [
    "for col in b_list.columns:\n",
    "    print(f'{col}...{len(b_list[col].unique())}')"
   ]
  },
  {
   "cell_type": "markdown",
   "metadata": {},
   "source": [
    "## Observations\n",
    "Data from the calendar could be used with the b_list to increase its value for our observations. For example, we could add the average price (when available) of a listing and see how that correlates with various factors (such as square footage, review scores, location, etc.)"
   ]
  },
  {
   "cell_type": "code",
   "execution_count": 47,
   "metadata": {},
   "outputs": [
    {
     "name": "stdout",
     "output_type": "stream",
     "text": [
      "listing_id....3585\n",
      "date....365\n",
      "available....2\n",
      "price....1247\n"
     ]
    }
   ],
   "source": [
    "for col in b_cal.columns:\n",
    "    print(f'{col}....{len(b_cal[col].unique())}')"
   ]
  },
  {
   "cell_type": "code",
   "execution_count": 48,
   "metadata": {},
   "outputs": [
    {
     "name": "stdout",
     "output_type": "stream",
     "text": [
      "listing_id....2829\n",
      "id....68275\n",
      "date....2045\n",
      "reviewer_id....63789\n",
      "reviewer_name....14775\n",
      "comments....67313\n"
     ]
    }
   ],
   "source": [
    "for col in b_rev.columns:\n",
    "    print(f'{col}....{len(b_rev[col].unique())}')\n",
    "    "
   ]
  },
  {
   "cell_type": "code",
   "execution_count": 49,
   "metadata": {},
   "outputs": [
    {
     "name": "stdout",
     "output_type": "stream",
     "text": [
      "set()\n",
      "set()\n"
     ]
    }
   ],
   "source": [
    "id_difs = set(b_rev['listing_id']) - set(b_cal['listing_id'])\n",
    "id_difs2 = set(b_rev['listing_id']) - set(b_list['id'])\n",
    "\n",
    "print(id_difs)\n",
    "print(id_difs2)"
   ]
  },
  {
   "cell_type": "markdown",
   "metadata": {},
   "source": [
    "### Observation\n",
    "It looked like the listing_id was consistent across the three files. The set subtraction above confirmed this."
   ]
  },
  {
   "cell_type": "code",
   "execution_count": 50,
   "metadata": {},
   "outputs": [
    {
     "data": {
      "text/plain": [
       "array(['f', 't'], dtype=object)"
      ]
     },
     "execution_count": 50,
     "metadata": {},
     "output_type": "execute_result"
    }
   ],
   "source": [
    "b_cal.available.unique()"
   ]
  },
  {
   "cell_type": "code",
   "execution_count": 52,
   "metadata": {},
   "outputs": [
    {
     "data": {
      "text/plain": [
       "1247"
      ]
     },
     "execution_count": 52,
     "metadata": {},
     "output_type": "execute_result"
    }
   ],
   "source": [
    "len(b_cal['price'].unique())"
   ]
  },
  {
   "cell_type": "code",
   "execution_count": 53,
   "metadata": {},
   "outputs": [
    {
     "name": "stdout",
     "output_type": "stream",
     "text": [
      "set()\n",
      "[]\n"
     ]
    }
   ],
   "source": [
    "not_avail_price = set(b_cal[b_cal['available'] == 'f']['listing_id']) - set(b_cal[b_cal['price']!= 'nan']['listing_id'])\n",
    "print(not_avail_price)\n",
    "print([b_cal[b_cal['listing_id'] == x] for x in not_avail_price])"
   ]
  },
  {
   "cell_type": "markdown",
   "metadata": {},
   "source": [
    "###### Observation\n",
    "None of the non-available rooms have prices listed. Unsurprising, but it was a good extra step in clarifying whether we could use that data or not in Q1."
   ]
  },
  {
   "cell_type": "markdown",
   "metadata": {},
   "source": [
    "# Q1 Is there a seasonal timeframe in which Boston AirBNB listings are cheaper?\n",
    "### A question for inquiring customers\n",
    "For our purposes, this will be a simple comparison across all available listings. We won't attempt to look at comparable listings. Rather, we'll just look at the average cost per night across all listings through the year\n",
    "\n",
    "### Q1a \n",
    "After initial observation, there's a clear spike at one point in the year. Is there a possible explanation for this (Boston Marathon, sports playoffs)?"
   ]
  },
  {
   "cell_type": "code",
   "execution_count": 98,
   "metadata": {
    "collapsed": true
   },
   "outputs": [],
   "source": [
    "#created new dataframe for ease of use (for example, when changing values no warning messages about changing a slice)\n",
    "b_cal_q1 = pd.DataFrame(b_cal[b_cal['available'] == 't'])"
   ]
  },
  {
   "cell_type": "code",
   "execution_count": 99,
   "metadata": {},
   "outputs": [
    {
     "data": {
      "text/plain": [
       "(643037, 4)"
      ]
     },
     "execution_count": 99,
     "metadata": {},
     "output_type": "execute_result"
    }
   ],
   "source": [
    "b_cal_q1.shape"
   ]
  },
  {
   "cell_type": "code",
   "execution_count": 100,
   "metadata": {},
   "outputs": [
    {
     "name": "stdout",
     "output_type": "stream",
     "text": [
      "We eliminated 665853 listings\n"
     ]
    }
   ],
   "source": [
    "print(f'We eliminated {b_cal.shape[0]-b_cal_q1.shape[0]} listings')"
   ]
  },
  {
   "cell_type": "markdown",
   "metadata": {},
   "source": [
    "That's over half the listings on the calendar eliminated because they were marked as 'f' for availability and also have no pricing info (as we discovered), so they'll be no help in answering Q1. "
   ]
  },
  {
   "cell_type": "code",
   "execution_count": 101,
   "metadata": {},
   "outputs": [
    {
     "data": {
      "text/plain": [
       "Index(['listing_id', 'date', 'available', 'price'], dtype='object')"
      ]
     },
     "execution_count": 101,
     "metadata": {},
     "output_type": "execute_result"
    }
   ],
   "source": [
    "b_cal_q1.columns"
   ]
  },
  {
   "cell_type": "code",
   "execution_count": 102,
   "metadata": {},
   "outputs": [
    {
     "data": {
      "text/html": [
       "<div>\n",
       "<style>\n",
       "    .dataframe thead tr:only-child th {\n",
       "        text-align: right;\n",
       "    }\n",
       "\n",
       "    .dataframe thead th {\n",
       "        text-align: left;\n",
       "    }\n",
       "\n",
       "    .dataframe tbody tr th {\n",
       "        vertical-align: top;\n",
       "    }\n",
       "</style>\n",
       "<table border=\"1\" class=\"dataframe\">\n",
       "  <thead>\n",
       "    <tr style=\"text-align: right;\">\n",
       "      <th></th>\n",
       "      <th>listing_id</th>\n",
       "      <th>date</th>\n",
       "      <th>available</th>\n",
       "      <th>price</th>\n",
       "    </tr>\n",
       "  </thead>\n",
       "  <tbody>\n",
       "    <tr>\n",
       "      <th>365</th>\n",
       "      <td>3075044</td>\n",
       "      <td>2017-08-22</td>\n",
       "      <td>t</td>\n",
       "      <td>$65.00</td>\n",
       "    </tr>\n",
       "    <tr>\n",
       "      <th>366</th>\n",
       "      <td>3075044</td>\n",
       "      <td>2017-08-21</td>\n",
       "      <td>t</td>\n",
       "      <td>$65.00</td>\n",
       "    </tr>\n",
       "    <tr>\n",
       "      <th>367</th>\n",
       "      <td>3075044</td>\n",
       "      <td>2017-08-20</td>\n",
       "      <td>t</td>\n",
       "      <td>$65.00</td>\n",
       "    </tr>\n",
       "    <tr>\n",
       "      <th>368</th>\n",
       "      <td>3075044</td>\n",
       "      <td>2017-08-19</td>\n",
       "      <td>t</td>\n",
       "      <td>$75.00</td>\n",
       "    </tr>\n",
       "    <tr>\n",
       "      <th>369</th>\n",
       "      <td>3075044</td>\n",
       "      <td>2017-08-18</td>\n",
       "      <td>t</td>\n",
       "      <td>$75.00</td>\n",
       "    </tr>\n",
       "  </tbody>\n",
       "</table>\n",
       "</div>"
      ],
      "text/plain": [
       "     listing_id        date available   price\n",
       "365     3075044  2017-08-22         t  $65.00\n",
       "366     3075044  2017-08-21         t  $65.00\n",
       "367     3075044  2017-08-20         t  $65.00\n",
       "368     3075044  2017-08-19         t  $75.00\n",
       "369     3075044  2017-08-18         t  $75.00"
      ]
     },
     "execution_count": 102,
     "metadata": {},
     "output_type": "execute_result"
    }
   ],
   "source": [
    "b_cal_q1.head()"
   ]
  },
  {
   "cell_type": "code",
   "execution_count": 103,
   "metadata": {},
   "outputs": [
    {
     "data": {
      "text/plain": [
       "listing_id     int64\n",
       "date          object\n",
       "available     object\n",
       "price         object\n",
       "dtype: object"
      ]
     },
     "execution_count": 103,
     "metadata": {},
     "output_type": "execute_result"
    }
   ],
   "source": [
    "b_cal_q1.dtypes"
   ]
  },
  {
   "cell_type": "code",
   "execution_count": 104,
   "metadata": {},
   "outputs": [
    {
     "name": "stdout",
     "output_type": "stream",
     "text": [
      "{'$': 643037}\n"
     ]
    }
   ],
   "source": [
    "check = dict()\n",
    "for x in b_cal_q1['price']:\n",
    "    if x[0] in check:\n",
    "        check[x[0]] += 1\n",
    "    else:\n",
    "        check[x[0]] = 1\n",
    "print(check)"
   ]
  },
  {
   "cell_type": "markdown",
   "metadata": {},
   "source": [
    "Well, nobody missed a dollar sign on the front of the prices."
   ]
  },
  {
   "cell_type": "code",
   "execution_count": 105,
   "metadata": {},
   "outputs": [
    {
     "data": {
      "text/plain": [
       "643037"
      ]
     },
     "execution_count": 105,
     "metadata": {},
     "output_type": "execute_result"
    }
   ],
   "source": [
    "len(b_cal_q1['price'])"
   ]
  },
  {
   "cell_type": "code",
   "execution_count": 106,
   "metadata": {},
   "outputs": [
    {
     "name": "stdout",
     "output_type": "stream",
     "text": [
      "['65.00' '65.00' '65.00' ..., '62.00' '62.00' '62.00']\n",
      "643037\n"
     ]
    }
   ],
   "source": [
    "#eliminate dollar sign from price values. This will allow us to coerce values later and not get 'nan'\n",
    "new_price = np.array([price[1:] for price in b_cal_q1['price']])\n",
    "print(new_price)\n",
    "print(len(new_price))"
   ]
  },
  {
   "cell_type": "code",
   "execution_count": 107,
   "metadata": {},
   "outputs": [],
   "source": [
    "b_cal_q1.loc[:,'price'] = new_price"
   ]
  },
  {
   "cell_type": "code",
   "execution_count": 118,
   "metadata": {},
   "outputs": [],
   "source": [
    "#coerce price values to floats\n",
    "b_cal_q1.loc[:,'price'] = pd.to_numeric(b_cal_q1['price'], errors='coerce')"
   ]
  },
  {
   "cell_type": "code",
   "execution_count": 119,
   "metadata": {},
   "outputs": [
    {
     "data": {
      "text/html": [
       "<div>\n",
       "<style>\n",
       "    .dataframe thead tr:only-child th {\n",
       "        text-align: right;\n",
       "    }\n",
       "\n",
       "    .dataframe thead th {\n",
       "        text-align: left;\n",
       "    }\n",
       "\n",
       "    .dataframe tbody tr th {\n",
       "        vertical-align: top;\n",
       "    }\n",
       "</style>\n",
       "<table border=\"1\" class=\"dataframe\">\n",
       "  <thead>\n",
       "    <tr style=\"text-align: right;\">\n",
       "      <th></th>\n",
       "      <th>listing_id</th>\n",
       "      <th>date</th>\n",
       "      <th>available</th>\n",
       "      <th>price</th>\n",
       "    </tr>\n",
       "  </thead>\n",
       "  <tbody>\n",
       "    <tr>\n",
       "      <th>365</th>\n",
       "      <td>3075044</td>\n",
       "      <td>2017-08-22</td>\n",
       "      <td>t</td>\n",
       "      <td>65.0</td>\n",
       "    </tr>\n",
       "    <tr>\n",
       "      <th>366</th>\n",
       "      <td>3075044</td>\n",
       "      <td>2017-08-21</td>\n",
       "      <td>t</td>\n",
       "      <td>65.0</td>\n",
       "    </tr>\n",
       "  </tbody>\n",
       "</table>\n",
       "</div>"
      ],
      "text/plain": [
       "     listing_id        date available  price\n",
       "365     3075044  2017-08-22         t   65.0\n",
       "366     3075044  2017-08-21         t   65.0"
      ]
     },
     "execution_count": 119,
     "metadata": {},
     "output_type": "execute_result"
    }
   ],
   "source": [
    "b_cal_q1.head(2)"
   ]
  },
  {
   "cell_type": "code",
   "execution_count": 120,
   "metadata": {},
   "outputs": [
    {
     "data": {
      "text/plain": [
       "listing_id      int64\n",
       "date           object\n",
       "available      object\n",
       "price         float64\n",
       "dtype: object"
      ]
     },
     "execution_count": 120,
     "metadata": {},
     "output_type": "execute_result"
    }
   ],
   "source": [
    "b_cal_q1.dtypes"
   ]
  },
  {
   "cell_type": "code",
   "execution_count": 139,
   "metadata": {},
   "outputs": [],
   "source": [
    "date_price = b_cal_q1.groupby('date').mean()['price']"
   ]
  },
  {
   "cell_type": "code",
   "execution_count": 218,
   "metadata": {},
   "outputs": [
    {
     "name": "stdout",
     "output_type": "stream",
     "text": [
      "The lowest average price was on 2017-03-06\n",
      "The highest average price was on 2016-09-17\n"
     ]
    }
   ],
   "source": [
    "minimum = date_price[date_price==date_price.min()].index[0]\n",
    "maximum = date_price[date_price==date_price.max()].index[0]\n",
    "print(f'The lowest average price was on {minimum}')\n",
    "print(f'The highest average price was on {maximum}')"
   ]
  },
  {
   "cell_type": "code",
   "execution_count": 219,
   "metadata": {},
   "outputs": [
    {
     "data": {
      "image/png": "[encoded data removed]",
      "text/plain": [
       "<Figure size 432x288 with 1 Axes>"
      ]
     },
     "metadata": {},
     "output_type": "display_data"
    }
   ],
   "source": [
    "#Average price snapshot once per week\n",
    "plt.xkcd()\n",
    "plt.title('Average Boston Airbnb Prices ($) by Date')\n",
    "plt.plot(date_price.index[::7], date_price[::7])\n",
    "plt.xticks([x for x in range(0,len(date_price)//7,8)], rotation=60);"
   ]
  },
  {
   "cell_type": "markdown",
   "metadata": {},
   "source": [
    "## Q1 Answer\n",
    "\n",
    "It looks like, from September 2016 to August 2017, the cheapest prices were in late February and early March. Boston might be a good valentine's day vacay!\n",
    "\n",
    "### Q1a Answer\n",
    "The Boston Marthon was on April 17 in 2017. This exactly coincides with the spike in the graph at that time. It appears that Airbnb renters know how to capitalize on their city's event!"
   ]
  },
  {
   "cell_type": "markdown",
   "metadata": {},
   "source": [
    "\n",
    "# Q2 Did the steady rise in Airbnb rooms available (from 570 on 9-6-2016 to 1801 on 9-5-2017) precipitate a distinguishable rise or drop in general prices?\n",
    "## Seeing this change might also impact how we think about the response to Q1\n",
    "Again, for this question we don't need to get too fancy with the data (trying to find comprable rooms and such). We just want a general overview.\n",
    "### Q2a\n",
    "Should customers wait until the Airbnb market is saturated to get a room or jump on the still relatively new advent of the phenomenon?!\n",
    "\n",
    "### Q2b\n",
    "Is there a market for new renters or did the influx of new airbnb homes saturate the market so that it's almost more desirable to have your deadbeat college roommate come stay with you permanently for a few bucks a night?"
   ]
  },
  {
   "cell_type": "markdown",
   "metadata": {},
   "source": [
    "*back to question 1 wrangling for now*"
   ]
  },
  {
   "cell_type": "markdown",
   "metadata": {},
   "source": [
    "# Q3 What two or three things most often generally correlate with 1) a high priced Airbnb per night and 2) a high grossing Airbnb?\n",
    "\n",
    "Yet again, it will be difficult to give an exact determination, because no two airbnbs are exactly alike--aka, there are many more than 1 dynamic variable. Nonetheless, the attempt will be made to offer some general observations on this front."
   ]
  },
  {
   "cell_type": "code",
   "execution_count": 44,
   "metadata": {},
   "outputs": [
    {
     "data": {
      "text/plain": [
       "listing_id     int64\n",
       "date          object\n",
       "available     object\n",
       "price         object\n",
       "dtype: object"
      ]
     },
     "execution_count": 44,
     "metadata": {},
     "output_type": "execute_result"
    }
   ],
   "source": [
    "b_cal_q1.dtypes"
   ]
  },
  {
   "cell_type": "code",
   "execution_count": null,
   "metadata": {
    "collapsed": true
   },
   "outputs": [],
   "source": []
  }
 ],
 "metadata": {
  "kernelspec": {
   "display_name": "Python 3",
   "language": "python",
   "name": "python3"
  },
  "language_info": {
   "codemirror_mode": {
    "name": "ipython",
    "version": 3
   },
   "file_extension": ".py",
   "mimetype": "text/x-python",
   "name": "python",
   "nbconvert_exporter": "python",
   "pygments_lexer": "ipython3",
   "version": "3.6.3"
  }
 },
 "nbformat": 4,
 "nbformat_minor": 2
}
